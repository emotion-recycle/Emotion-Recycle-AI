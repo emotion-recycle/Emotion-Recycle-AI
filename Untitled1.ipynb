{
 "cells": [
  {
   "cell_type": "code",
   "execution_count": 60,
   "metadata": {},
   "outputs": [],
   "source": [
    "import sys\n",
    "sys.path.append(\"C:/Users/cpprh/Documents/GitHub/textrank\")\n",
    "import textrank\n",
    "from konlpy.tag import Komoran\n",
    "\n",
    "komoran = Komoran()\n",
    "def komoran_tokenizer(sent):\n",
    "    words = komoran.pos(sent, join=True)\n",
    "    #words = [w for w in words if ('/NN' in w or '/XR' in w or '/VA' in w or '/VV' in w)]\n",
    "    words = [w for w in words if ('/NN' in w or '/XR' in w or '/VA' in w)]\n",
    "    return words"
   ]
  },
  {
   "cell_type": "code",
   "execution_count": 61,
   "metadata": {},
   "outputs": [],
   "source": [
    "cleaned_sents = [\"어 오늘 그냥 식사 겸 술자리를 지인들이랑 가졌어요.\",\n",
    "                \"그 지인이 너무 우울한 일이 있었거든요.\",\n",
    "                \"자리를 마치고 혼자 집에 가는데 뭔가 감정이 그 친구에게 전염된 것처럼 울고 싶은 거예요.\",\n",
    "                \"그래도 집 가는 내내 꾹 참고 왔어요.\",\n",
    "                \"다른 지인에게 연락했는데, 왜 우울하였는지만 묻고 금세 자러 가더라구요\",\n",
    "                \"그렇게 걸으면서 집 가는 내내 너무 힘들더라구요.\",\n",
    "                \"그냥 너무 외로워서 미칠 것 같더라구요.\"]"
   ]
  },
  {
   "cell_type": "code",
   "execution_count": 69,
   "metadata": {},
   "outputs": [
    {
     "data": {
      "text/plain": [
       "[('우울/NNG', 1.0),\n",
       " ('지인/NNP', 1.0),\n",
       " ('것/NNB', 0.15000000000000002),\n",
       " ('집/NNG', 0.15000000000000002)]"
      ]
     },
     "execution_count": 69,
     "metadata": {},
     "output_type": "execute_result"
    }
   ],
   "source": [
    "keyword_summarizer = textrank.KeywordSummarizer(tokenize=komoran_tokenizer, min_count=2, min_cooccurrence=len(cleaned_sents)/2)\n",
    "keyword_summarizer.summarize(cleaned_sents, topk=5)"
   ]
  },
  {
   "cell_type": "code",
   "execution_count": null,
   "metadata": {},
   "outputs": [],
   "source": []
  }
 ],
 "metadata": {
  "kernelspec": {
   "display_name": "Python 3",
   "language": "python",
   "name": "python3"
  },
  "language_info": {
   "codemirror_mode": {
    "name": "ipython",
    "version": 3
   },
   "file_extension": ".py",
   "mimetype": "text/x-python",
   "name": "python",
   "nbconvert_exporter": "python",
   "pygments_lexer": "ipython3",
   "version": "3.8.5"
  }
 },
 "nbformat": 4,
 "nbformat_minor": 4
}
