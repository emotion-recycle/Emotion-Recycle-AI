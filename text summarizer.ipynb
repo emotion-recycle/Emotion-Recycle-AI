{
 "cells": [
  {
   "cell_type": "code",
   "execution_count": 10,
   "metadata": {},
   "outputs": [],
   "source": [
    "import sys\n",
    "sys.path.append(\"C:/Users/cpprh/Documents/GitHub/textrank\")\n",
    "import textrank\n",
    "from konlpy.tag import Komoran\n",
    "\n",
    "komoran = Komoran()\n",
    "def komoran_tokenizer(sent):\n",
    "    words = komoran.pos(sent, join=True)\n",
    "    #words = [w for w in words if ('/NN' in w or '/XR' in w or '/VA' in w or '/VV' in w)]\n",
    "    words = [w for w in words if ('/NN' in w or '/XR' in w or '/VA' in w)]\n",
    "    return words"
   ]
  },
  {
   "cell_type": "code",
   "execution_count": 61,
   "metadata": {},
   "outputs": [],
   "source": [
    "cleaned_sents = [\"어 오늘 그냥 식사 겸 술자리를 지인들이랑 가졌어요.\",\n",
    "                \"그 지인이 너무 우울한 일이 있었거든요.\",\n",
    "                \"자리를 마치고 혼자 집에 가는데 뭔가 감정이 그 친구에게 전염된 것처럼 울고 싶은 거예요.\",\n",
    "                \"그래도 집 가는 내내 꾹 참고 왔어요.\",\n",
    "                \"다른 지인에게 연락했는데, 왜 우울하였는지만 묻고 금세 자러 가더라구요\",\n",
    "                \"그렇게 걸으면서 집 가는 내내 너무 힘들더라구요.\",\n",
    "                \"그냥 너무 외로워서 미칠 것 같더라구요.\"]"
   ]
  },
  {
   "cell_type": "code",
   "execution_count": 20,
   "metadata": {},
   "outputs": [],
   "source": [
    "cleaned_sents = [\"저는 항상 친구들이 하소연을 할때면 제 일처럼 몰입해서 걱정해주고 공감해주고 같이 욕해줘요.\",\n",
    "                 \"그래서 친구들은 저더러 '상담사'라고 하는데..\",\n",
    "                 \"저는 그 누구에게도 그만한 공감을 받지 못해서 억울해요.\",\n",
    "                 \"제가 힘들고 우울해서 친구를 붙잡고 하소연 할때는 너무 하소연만 하는거 아니냐던 사람이 지금은 본인이 힘들다고 늘 와서 하소연을 하네요.\",\n",
    "                 \"예전에는 제가 이런 마음인지 몰랐다고, 그때 제 얘기를 좀 더 잘 들어줄걸 싶었다던데 제 눈에는 본인이 예전에 저한테 뭐라 해놓고 이제와서 지는 하소연하는게 찔려서 자기정당화 하고싶은거로만 보여요.\",\n",
    "                 \"제가 그 친구에게 징징대던거 보다 그 친구는 지금 저에게 징징대는 횟수가 더 긴거같은데ㅋㅋㅋ\",\n",
    "                 \"그래서 그 친구에게 제 얘기가 점점 하기 싫어져서 요즘은 진짜 너무 힘들때 아니면 절대 아무 얘기 안해요.\",\n",
    "                 \"날 그렇게 만들어놓고서 지는 맨날 힘들다고 하는거 보면 억울하고 화가 나요.\",\n",
    "                 \"내가 힘들땐 본인이 안 겪어봐서 이해 못한거면서, 지도 겪으면 그때의 나랑 똑같을거면서\",\n",
    "                 \"억울해요\"]"
   ]
  },
  {
   "cell_type": "code",
   "execution_count": 26,
   "metadata": {},
   "outputs": [],
   "source": [
    "keyword_summarizer = textrank.KeywordSummarizer(tokenize=komoran_tokenizer, min_count=3, min_cooccurrence=len(cleaned_sents)/2)\n",
    "A = keyword_summarizer.summarize(cleaned_sents, topk=10)"
   ]
  },
  {
   "cell_type": "code",
   "execution_count": 27,
   "metadata": {},
   "outputs": [
    {
     "data": {
      "text/plain": [
       "[('하소연/NNP', 2.1512231747353003),\n",
       " ('거/NNB', 1.1859930810543036),\n",
       " ('친구/NNG', 1.040774097768802),\n",
       " ('때/NNG', 0.8079830387121406),\n",
       " ('힘들/VA', 0.7299373827910313),\n",
       " ('제가/NNP', 0.5433111214868107),\n",
       " ('본인/NNG', 0.5407781034516104),\n",
       " ('얘기/NNG', 0.15000000000000002),\n",
       " ('억울/XR', 0.15000000000000002)]"
      ]
     },
     "execution_count": 27,
     "metadata": {},
     "output_type": "execute_result"
    }
   ],
   "source": [
    "A"
   ]
  },
  {
   "cell_type": "code",
   "execution_count": 35,
   "metadata": {},
   "outputs": [],
   "source": [
    "A = list(A)\n",
    "\n",
    "for i in range(len(A)):\n",
    "    A[i] = list(A[i])\n",
    "    if A[i][0].find(\"XR\") != -1:\n",
    "        A[i][1] += 0.5"
   ]
  },
  {
   "cell_type": "code",
   "execution_count": 36,
   "metadata": {},
   "outputs": [
    {
     "data": {
      "text/plain": [
       "[['하소연/NNP', 2.1512231747353003],\n",
       " ['거/NNB', 1.1859930810543036],\n",
       " ['친구/NNG', 1.040774097768802],\n",
       " ['때/NNG', 0.8079830387121406],\n",
       " ['힘들/VA', 0.7299373827910313],\n",
       " ['제가/NNP', 0.5433111214868107],\n",
       " ['본인/NNG', 0.5407781034516104],\n",
       " ['얘기/NNG', 0.15000000000000002],\n",
       " ['억울/XR', 0.65]]"
      ]
     },
     "execution_count": 36,
     "metadata": {},
     "output_type": "execute_result"
    }
   ],
   "source": []
  },
  {
   "cell_type": "code",
   "execution_count": null,
   "metadata": {},
   "outputs": [],
   "source": []
  }
 ],
 "metadata": {
  "kernelspec": {
   "display_name": "Python 3",
   "language": "python",
   "name": "python3"
  },
  "language_info": {
   "codemirror_mode": {
    "name": "ipython",
    "version": 3
   },
   "file_extension": ".py",
   "mimetype": "text/x-python",
   "name": "python",
   "nbconvert_exporter": "python",
   "pygments_lexer": "ipython3",
   "version": "3.8.5"
  }
 },
 "nbformat": 4,
 "nbformat_minor": 4
}
